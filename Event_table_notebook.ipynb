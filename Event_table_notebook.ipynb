{
 "cells": [
  {
   "cell_type": "code",
   "execution_count": 2,
   "metadata": {},
   "outputs": [],
   "source": [
    "from snowflake.snowpark import Session"
   ]
  },
  {
   "cell_type": "code",
   "execution_count": 15,
   "metadata": {},
   "outputs": [],
   "source": [
    "session = Session.builder.config(\"connection_name\", \"aiml\").create()"
   ]
  },
  {
   "cell_type": "code",
   "execution_count": 19,
   "metadata": {},
   "outputs": [],
   "source": [
    "import logging\n",
    "\n",
    "def init_cortex_search_services(session):\n",
    "       try:\n",
    "        message = \"this is snowflake event log testing from python udf\"\n",
    "        level = \"INFO\"\n",
    "        log_sql_text = f\"select ml_poc_db.raw.log_trace_data('{message}','{level}')\" \n",
    "        session.sql(log_sql_text).collect()\n",
    "        return  log_sql_text\n",
    "       except:\n",
    "        return  \"failed\"\n",
    "           \n",
    "           \n",
    "\n",
    "   \n",
    "\n",
    "       \n",
    "\n",
    "    "
   ]
  },
  {
   "cell_type": "code",
   "execution_count": 24,
   "metadata": {},
   "outputs": [
    {
     "name": "stdout",
     "output_type": "stream",
     "text": [
      "-----------------------------------------------------------------------------------------------------------------------------------------------------------------------------------------------------------------------------------------------------------------------------------------------------------------------------------------------------------------------------\n",
      "|\"TIMESTAMP\"                 |\"START_TIMESTAMP\"           |\"OBSERVED_TIMESTAMP\"        |\"TRACE\"  |\"RESOURCE\"  |\"RESOURCE_ATTRIBUTES\"                               |\"SCOPE\"           |\"SCOPE_ATTRIBUTES\"  |\"RECORD_TYPE\"  |\"RECORD\"                                |\"RECORD_ATTRIBUTES\"                 |\"VALUE\"                                             |\"EXEMPLARS\"  |\n",
      "-----------------------------------------------------------------------------------------------------------------------------------------------------------------------------------------------------------------------------------------------------------------------------------------------------------------------------------------------------------------------------\n",
      "|2025-01-27 16:31:30.071313  |1970-01-01 00:00:00         |NULL                        |NULL     |NULL        |{                                                   |NULL              |NULL                |METRIC         |{                                       |NULL                                |0                                                   |NULL         |\n",
      "|                            |                            |                            |         |            |  \"db.user\": \"RANJEETA\",                            |                  |                    |               |  \"metric\": {                           |                                    |                                                    |             |\n",
      "|                            |                            |                            |         |            |  \"snow.database.id\": 31,                           |                  |                    |               |    \"name\": \"process.cpu.utilization\",  |                                    |                                                    |             |\n",
      "|                            |                            |                            |         |            |  \"snow.database.name\": \"ML_POC_DB\",                |                  |                    |               |    \"unit\": \"1\"                         |                                    |                                                    |             |\n",
      "|                            |                            |                            |         |            |  \"snow.executable.id\": 6582,                       |                  |                    |               |  },                                    |                                    |                                                    |             |\n",
      "|                            |                            |                            |         |            |  \"snow.executable.name\": \"LOG_TRACE_DATA(MESSA...  |                  |                    |               |  \"metric_type\": \"gauge\",               |                                    |                                                    |             |\n",
      "|                            |                            |                            |         |            |  \"snow.executable.runtime.version\": \"3.9\",         |                  |                    |               |  \"value_type\": \"DOUBLE\"                |                                    |                                                    |             |\n",
      "|                            |                            |                            |         |            |  \"snow.executable.type\": \"FUNCTION\",               |                  |                    |               |}                                       |                                    |                                                    |             |\n",
      "|                            |                            |                            |         |            |  \"snow.owner.id\": 2,                               |                  |                    |               |                                        |                                    |                                                    |             |\n",
      "|                            |                            |                            |         |            |  \"snow.owner.name\": \"ACCOUNTADMIN\",                |                  |                    |               |                                        |                                    |                                                    |             |\n",
      "|                            |                            |                            |         |            |  \"snow.query.id\": \"01b9febf-0004-8412-0076-170...  |                  |                    |               |                                        |                                    |                                                    |             |\n",
      "|                            |                            |                            |         |            |  \"snow.schema.id\": 54,                             |                  |                    |               |                                        |                                    |                                                    |             |\n",
      "|                            |                            |                            |         |            |  \"snow.schema.name\": \"RAW\",                        |                  |                    |               |                                        |                                    |                                                    |             |\n",
      "|                            |                            |                            |         |            |  \"snow.session.id\": 33239366098811262,             |                  |                    |               |                                        |                                    |                                                    |             |\n",
      "|                            |                            |                            |         |            |  \"snow.session.role.primary.id\": 2,                |                  |                    |               |                                        |                                    |                                                    |             |\n",
      "|                            |                            |                            |         |            |  \"snow.session.role.primary.name\": \"ACCOUNTADM...  |                  |                    |               |                                        |                                    |                                                    |             |\n",
      "|                            |                            |                            |         |            |  \"snow.user.id\": 61,                               |                  |                    |               |                                        |                                    |                                                    |             |\n",
      "|                            |                            |                            |         |            |  \"snow.warehouse.id\": 1,                           |                  |                    |               |                                        |                                    |                                                    |             |\n",
      "|                            |                            |                            |         |            |  \"snow.warehouse.name\": \"ML_FS_W\",                 |                  |                    |               |                                        |                                    |                                                    |             |\n",
      "|                            |                            |                            |         |            |  \"telemetry.sdk.language\": \"python\"                |                  |                    |               |                                        |                                    |                                                    |             |\n",
      "|                            |                            |                            |         |            |}                                                   |                  |                    |               |                                        |                                    |                                                    |             |\n",
      "|2025-01-27 16:31:30.071313  |2025-01-27 16:31:28.472198  |NULL                        |NULL     |NULL        |{                                                   |NULL              |NULL                |METRIC         |{                                       |NULL                                |0                                                   |NULL         |\n",
      "|                            |                            |                            |         |            |  \"db.user\": \"RANJEETA\",                            |                  |                    |               |  \"metric\": {                           |                                    |                                                    |             |\n",
      "|                            |                            |                            |         |            |  \"snow.database.id\": 31,                           |                  |                    |               |    \"name\": \"process.memory.usage\",     |                                    |                                                    |             |\n",
      "|                            |                            |                            |         |            |  \"snow.database.name\": \"ML_POC_DB\",                |                  |                    |               |    \"unit\": \"bytes\"                     |                                    |                                                    |             |\n",
      "|                            |                            |                            |         |            |  \"snow.executable.id\": 6582,                       |                  |                    |               |  },                                    |                                    |                                                    |             |\n",
      "|                            |                            |                            |         |            |  \"snow.executable.name\": \"LOG_TRACE_DATA(MESSA...  |                  |                    |               |  \"metric_type\": \"sum\",                 |                                    |                                                    |             |\n",
      "|                            |                            |                            |         |            |  \"snow.executable.runtime.version\": \"3.9\",         |                  |                    |               |  \"value_type\": \"INT\"                   |                                    |                                                    |             |\n",
      "|                            |                            |                            |         |            |  \"snow.executable.type\": \"FUNCTION\",               |                  |                    |               |}                                       |                                    |                                                    |             |\n",
      "|                            |                            |                            |         |            |  \"snow.owner.id\": 2,                               |                  |                    |               |                                        |                                    |                                                    |             |\n",
      "|                            |                            |                            |         |            |  \"snow.owner.name\": \"ACCOUNTADMIN\",                |                  |                    |               |                                        |                                    |                                                    |             |\n",
      "|                            |                            |                            |         |            |  \"snow.query.id\": \"01b9febf-0004-8412-0076-170...  |                  |                    |               |                                        |                                    |                                                    |             |\n",
      "|                            |                            |                            |         |            |  \"snow.schema.id\": 54,                             |                  |                    |               |                                        |                                    |                                                    |             |\n",
      "|                            |                            |                            |         |            |  \"snow.schema.name\": \"RAW\",                        |                  |                    |               |                                        |                                    |                                                    |             |\n",
      "|                            |                            |                            |         |            |  \"snow.session.id\": 33239366098811262,             |                  |                    |               |                                        |                                    |                                                    |             |\n",
      "|                            |                            |                            |         |            |  \"snow.session.role.primary.id\": 2,                |                  |                    |               |                                        |                                    |                                                    |             |\n",
      "|                            |                            |                            |         |            |  \"snow.session.role.primary.name\": \"ACCOUNTADM...  |                  |                    |               |                                        |                                    |                                                    |             |\n",
      "|                            |                            |                            |         |            |  \"snow.user.id\": 61,                               |                  |                    |               |                                        |                                    |                                                    |             |\n",
      "|                            |                            |                            |         |            |  \"snow.warehouse.id\": 1,                           |                  |                    |               |                                        |                                    |                                                    |             |\n",
      "|                            |                            |                            |         |            |  \"snow.warehouse.name\": \"ML_FS_W\",                 |                  |                    |               |                                        |                                    |                                                    |             |\n",
      "|                            |                            |                            |         |            |  \"telemetry.sdk.language\": \"python\"                |                  |                    |               |                                        |                                    |                                                    |             |\n",
      "|                            |                            |                            |         |            |}                                                   |                  |                    |               |                                        |                                    |                                                    |             |\n",
      "|2025-01-27 16:31:30.162096  |NULL                        |2025-01-27 16:31:30.162096  |NULL     |NULL        |{                                                   |{                 |NULL                |LOG            |{                                       |{                                   |\"this is snowflake event log testing from pytho...  |NULL         |\n",
      "|                            |                            |                            |         |            |  \"db.user\": \"RANJEETA\",                            |  \"name\": \"root\"  |                    |               |  \"severity_text\": \"INFO\"               |  \"code.filepath\": \"_udf_code.py\",  |                                                    |             |\n",
      "|                            |                            |                            |         |            |  \"snow.database.id\": 31,                           |}                 |                    |               |}                                       |  \"code.function\": \"log_message\",   |                                                    |             |\n",
      "|                            |                            |                            |         |            |  \"snow.database.name\": \"ML_POC_DB\",                |                  |                    |               |                                        |  \"code.lineno\": 12                 |                                                    |             |\n",
      "|                            |                            |                            |         |            |  \"snow.executable.id\": 6582,                       |                  |                    |               |                                        |}                                   |                                                    |             |\n",
      "|                            |                            |                            |         |            |  \"snow.executable.name\": \"LOG_TRACE_DATA(MESSA...  |                  |                    |               |                                        |                                    |                                                    |             |\n",
      "|                            |                            |                            |         |            |  \"snow.executable.runtime.version\": \"3.9\",         |                  |                    |               |                                        |                                    |                                                    |             |\n",
      "|                            |                            |                            |         |            |  \"snow.executable.type\": \"FUNCTION\",               |                  |                    |               |                                        |                                    |                                                    |             |\n",
      "|                            |                            |                            |         |            |  \"snow.owner.id\": 2,                               |                  |                    |               |                                        |                                    |                                                    |             |\n",
      "|                            |                            |                            |         |            |  \"snow.owner.name\": \"ACCOUNTADMIN\",                |                  |                    |               |                                        |                                    |                                                    |             |\n",
      "|                            |                            |                            |         |            |  \"snow.query.id\": \"01b9febf-0004-8412-0076-170...  |                  |                    |               |                                        |                                    |                                                    |             |\n",
      "|                            |                            |                            |         |            |  \"snow.schema.id\": 54,                             |                  |                    |               |                                        |                                    |                                                    |             |\n",
      "|                            |                            |                            |         |            |  \"snow.schema.name\": \"RAW\",                        |                  |                    |               |                                        |                                    |                                                    |             |\n",
      "|                            |                            |                            |         |            |  \"snow.session.id\": 33239366098811262,             |                  |                    |               |                                        |                                    |                                                    |             |\n",
      "|                            |                            |                            |         |            |  \"snow.session.role.primary.id\": 2,                |                  |                    |               |                                        |                                    |                                                    |             |\n",
      "|                            |                            |                            |         |            |  \"snow.session.role.primary.name\": \"ACCOUNTADM...  |                  |                    |               |                                        |                                    |                                                    |             |\n",
      "|                            |                            |                            |         |            |  \"snow.user.id\": 61,                               |                  |                    |               |                                        |                                    |                                                    |             |\n",
      "|                            |                            |                            |         |            |  \"snow.warehouse.id\": 1,                           |                  |                    |               |                                        |                                    |                                                    |             |\n",
      "|                            |                            |                            |         |            |  \"snow.warehouse.name\": \"ML_FS_W\",                 |                  |                    |               |                                        |                                    |                                                    |             |\n",
      "|                            |                            |                            |         |            |  \"telemetry.sdk.language\": \"python\"                |                  |                    |               |                                        |                                    |                                                    |             |\n",
      "|                            |                            |                            |         |            |}                                                   |                  |                    |               |                                        |                                    |                                                    |             |\n",
      "|2025-01-27 16:16:41.786966  |1970-01-01 00:00:00         |NULL                        |NULL     |NULL        |{                                                   |NULL              |NULL                |METRIC         |{                                       |NULL                                |0                                                   |NULL         |\n",
      "|                            |                            |                            |         |            |  \"db.user\": \"RPEGU\",                               |                  |                    |               |  \"metric\": {                           |                                    |                                                    |             |\n",
      "|                            |                            |                            |         |            |  \"snow.database.id\": 31,                           |                  |                    |               |    \"name\": \"process.cpu.utilization\",  |                                    |                                                    |             |\n",
      "|                            |                            |                            |         |            |  \"snow.database.name\": \"ML_POC_DB\",                |                  |                    |               |    \"unit\": \"1\"                         |                                    |                                                    |             |\n",
      "|                            |                            |                            |         |            |  \"snow.executable.id\": 6582,                       |                  |                    |               |  },                                    |                                    |                                                    |             |\n",
      "|                            |                            |                            |         |            |  \"snow.executable.name\": \"LOG_TRACE_DATA(MESSA...  |                  |                    |               |  \"metric_type\": \"gauge\",               |                                    |                                                    |             |\n",
      "|                            |                            |                            |         |            |  \"snow.executable.runtime.version\": \"3.9\",         |                  |                    |               |  \"value_type\": \"DOUBLE\"                |                                    |                                                    |             |\n",
      "|                            |                            |                            |         |            |  \"snow.executable.type\": \"FUNCTION\",               |                  |                    |               |}                                       |                                    |                                                    |             |\n",
      "|                            |                            |                            |         |            |  \"snow.owner.id\": 2,                               |                  |                    |               |                                        |                                    |                                                    |             |\n",
      "|                            |                            |                            |         |            |  \"snow.owner.name\": \"ACCOUNTADMIN\",                |                  |                    |               |                                        |                                    |                                                    |             |\n",
      "|                            |                            |                            |         |            |  \"snow.query.id\": \"01b9feb0-0004-8412-0076-170...  |                  |                    |               |                                        |                                    |                                                    |             |\n",
      "|                            |                            |                            |         |            |  \"snow.schema.id\": 54,                             |                  |                    |               |                                        |                                    |                                                    |             |\n",
      "|                            |                            |                            |         |            |  \"snow.schema.name\": \"RAW\",                        |                  |                    |               |                                        |                                    |                                                    |             |\n",
      "|                            |                            |                            |         |            |  \"snow.session.id\": 33239366098810370,             |                  |                    |               |                                        |                                    |                                                    |             |\n",
      "|                            |                            |                            |         |            |  \"snow.session.role.primary.id\": 2,                |                  |                    |               |                                        |                                    |                                                    |             |\n",
      "|                            |                            |                            |         |            |  \"snow.session.role.primary.name\": \"ACCOUNTADM...  |                  |                    |               |                                        |                                    |                                                    |             |\n",
      "|                            |                            |                            |         |            |  \"snow.user.id\": 1,                                |                  |                    |               |                                        |                                    |                                                    |             |\n",
      "|                            |                            |                            |         |            |  \"snow.warehouse.id\": 10,                          |                  |                    |               |                                        |                                    |                                                    |             |\n",
      "|                            |                            |                            |         |            |  \"snow.warehouse.name\": \"DS_W\",                    |                  |                    |               |                                        |                                    |                                                    |             |\n",
      "|                            |                            |                            |         |            |  \"telemetry.sdk.language\": \"python\"                |                  |                    |               |                                        |                                    |                                                    |             |\n",
      "|                            |                            |                            |         |            |}                                                   |                  |                    |               |                                        |                                    |                                                    |             |\n",
      "-----------------------------------------------------------------------------------------------------------------------------------------------------------------------------------------------------------------------------------------------------------------------------------------------------------------------------------------------------------------------------\n",
      "\n"
     ]
    }
   ],
   "source": [
    "## check the logs in events table \n",
    "df = session.sql(\"select * from ml_poc_db.logging.events_logs  where timestamp > current_date fetch 10\")\n",
    "df.show(4)"
   ]
  }
 ],
 "metadata": {
  "kernelspec": {
   "display_name": "snfsp",
   "language": "python",
   "name": "python3"
  },
  "language_info": {
   "codemirror_mode": {
    "name": "ipython",
    "version": 3
   },
   "file_extension": ".py",
   "mimetype": "text/x-python",
   "name": "python",
   "nbconvert_exporter": "python",
   "pygments_lexer": "ipython3",
   "version": "3.10.16"
  }
 },
 "nbformat": 4,
 "nbformat_minor": 2
}
